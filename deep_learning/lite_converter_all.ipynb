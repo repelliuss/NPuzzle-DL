{
 "cells": [
  {
   "cell_type": "code",
   "execution_count": 1,
   "metadata": {},
   "outputs": [],
   "source": [
    "#This file designed to prevent GPU:Out of memory situations"
   ]
  },
  {
   "cell_type": "code",
   "execution_count": 2,
   "metadata": {},
   "outputs": [],
   "source": [
    "import tensorflow as tf"
   ]
  },
  {
   "cell_type": "code",
   "execution_count": 3,
   "metadata": {},
   "outputs": [],
   "source": [
    "MODEL_PATHS = []\n",
    "MODEL_SAVE_PATHS = []"
   ]
  },
  {
   "cell_type": "code",
   "execution_count": 4,
   "metadata": {},
   "outputs": [],
   "source": [
    "for i in range(3, 10):\n",
    "    for j in range(3, 10):\n",
    "        MODEL_PATHS.append(str(i) + 'x' + str(j) + '.h5')\n",
    "        MODEL_SAVE_PATHS.append('./tflite/' + str(i) + 'x' + str(j) + '.tflite')"
   ]
  },
  {
   "cell_type": "code",
   "execution_count": 6,
   "metadata": {
    "scrolled": true
   },
   "outputs": [
    {
     "data": {
      "text/plain": [
       "['3x3.h5',\n",
       " '3x4.h5',\n",
       " '3x5.h5',\n",
       " '3x6.h5',\n",
       " '3x7.h5',\n",
       " '3x8.h5',\n",
       " '3x9.h5',\n",
       " '4x3.h5',\n",
       " '4x4.h5',\n",
       " '4x5.h5',\n",
       " '4x6.h5',\n",
       " '4x7.h5',\n",
       " '4x8.h5',\n",
       " '4x9.h5',\n",
       " '5x3.h5',\n",
       " '5x4.h5',\n",
       " '5x5.h5',\n",
       " '5x6.h5',\n",
       " '5x7.h5',\n",
       " '5x8.h5',\n",
       " '5x9.h5',\n",
       " '6x3.h5',\n",
       " '6x4.h5',\n",
       " '6x5.h5',\n",
       " '6x6.h5',\n",
       " '6x7.h5',\n",
       " '6x8.h5',\n",
       " '6x9.h5',\n",
       " '7x3.h5',\n",
       " '7x4.h5',\n",
       " '7x5.h5',\n",
       " '7x6.h5',\n",
       " '7x7.h5',\n",
       " '7x8.h5',\n",
       " '7x9.h5',\n",
       " '8x3.h5',\n",
       " '8x4.h5',\n",
       " '8x5.h5',\n",
       " '8x6.h5',\n",
       " '8x7.h5',\n",
       " '8x8.h5',\n",
       " '8x9.h5',\n",
       " '9x3.h5',\n",
       " '9x4.h5',\n",
       " '9x5.h5',\n",
       " '9x6.h5',\n",
       " '9x7.h5',\n",
       " '9x8.h5',\n",
       " '9x9.h5']"
      ]
     },
     "execution_count": 6,
     "metadata": {},
     "output_type": "execute_result"
    }
   ],
   "source": [
    "MODEL_PATHS"
   ]
  },
  {
   "cell_type": "code",
   "execution_count": 7,
   "metadata": {},
   "outputs": [],
   "source": [
    "models = []"
   ]
  },
  {
   "cell_type": "code",
   "execution_count": 8,
   "metadata": {},
   "outputs": [],
   "source": [
    "start = -1"
   ]
  },
  {
   "cell_type": "code",
   "execution_count": 9,
   "metadata": {},
   "outputs": [],
   "source": [
    "i = start"
   ]
  },
  {
   "cell_type": "code",
   "execution_count": 10,
   "metadata": {},
   "outputs": [],
   "source": [
    "i += 1\n",
    "models.append(tf.keras.models.load_model(MODEL_PATHS[i]))"
   ]
  },
  {
   "cell_type": "code",
   "execution_count": 11,
   "metadata": {},
   "outputs": [],
   "source": [
    "i += 1\n",
    "models.append(tf.keras.models.load_model(MODEL_PATHS[i]))"
   ]
  },
  {
   "cell_type": "code",
   "execution_count": 12,
   "metadata": {},
   "outputs": [],
   "source": [
    "i += 1\n",
    "models.append(tf.keras.models.load_model(MODEL_PATHS[i]))"
   ]
  },
  {
   "cell_type": "code",
   "execution_count": 13,
   "metadata": {},
   "outputs": [],
   "source": [
    "i += 1\n",
    "models.append(tf.keras.models.load_model(MODEL_PATHS[i]))"
   ]
  },
  {
   "cell_type": "code",
   "execution_count": 14,
   "metadata": {},
   "outputs": [],
   "source": [
    "i += 1\n",
    "models.append(tf.keras.models.load_model(MODEL_PATHS[i]))"
   ]
  },
  {
   "cell_type": "code",
   "execution_count": 15,
   "metadata": {},
   "outputs": [],
   "source": [
    "i += 1\n",
    "models.append(tf.keras.models.load_model(MODEL_PATHS[i]))"
   ]
  },
  {
   "cell_type": "code",
   "execution_count": 16,
   "metadata": {},
   "outputs": [],
   "source": [
    "i += 1\n",
    "models.append(tf.keras.models.load_model(MODEL_PATHS[i]))"
   ]
  },
  {
   "cell_type": "code",
   "execution_count": 17,
   "metadata": {},
   "outputs": [],
   "source": [
    "i += 1\n",
    "models.append(tf.keras.models.load_model(MODEL_PATHS[i]))"
   ]
  },
  {
   "cell_type": "code",
   "execution_count": 18,
   "metadata": {},
   "outputs": [],
   "source": [
    "i += 1\n",
    "models.append(tf.keras.models.load_model(MODEL_PATHS[i]))"
   ]
  },
  {
   "cell_type": "code",
   "execution_count": 19,
   "metadata": {},
   "outputs": [],
   "source": [
    "i += 1\n",
    "models.append(tf.keras.models.load_model(MODEL_PATHS[i]))"
   ]
  },
  {
   "cell_type": "code",
   "execution_count": 20,
   "metadata": {},
   "outputs": [],
   "source": [
    "i += 1\n",
    "models.append(tf.keras.models.load_model(MODEL_PATHS[i]))"
   ]
  },
  {
   "cell_type": "code",
   "execution_count": 21,
   "metadata": {},
   "outputs": [],
   "source": [
    "i += 1\n",
    "models.append(tf.keras.models.load_model(MODEL_PATHS[i]))"
   ]
  },
  {
   "cell_type": "code",
   "execution_count": 22,
   "metadata": {},
   "outputs": [],
   "source": [
    "i += 1\n",
    "models.append(tf.keras.models.load_model(MODEL_PATHS[i]))"
   ]
  },
  {
   "cell_type": "code",
   "execution_count": 23,
   "metadata": {},
   "outputs": [],
   "source": [
    "i += 1\n",
    "models.append(tf.keras.models.load_model(MODEL_PATHS[i]))"
   ]
  },
  {
   "cell_type": "code",
   "execution_count": 24,
   "metadata": {},
   "outputs": [],
   "source": [
    "i += 1\n",
    "models.append(tf.keras.models.load_model(MODEL_PATHS[i]))"
   ]
  },
  {
   "cell_type": "code",
   "execution_count": 25,
   "metadata": {},
   "outputs": [],
   "source": [
    "i += 1\n",
    "models.append(tf.keras.models.load_model(MODEL_PATHS[i]))"
   ]
  },
  {
   "cell_type": "code",
   "execution_count": 26,
   "metadata": {},
   "outputs": [],
   "source": [
    "i += 1\n",
    "models.append(tf.keras.models.load_model(MODEL_PATHS[i]))"
   ]
  },
  {
   "cell_type": "code",
   "execution_count": 27,
   "metadata": {},
   "outputs": [],
   "source": [
    "i += 1\n",
    "models.append(tf.keras.models.load_model(MODEL_PATHS[i]))"
   ]
  },
  {
   "cell_type": "code",
   "execution_count": 28,
   "metadata": {},
   "outputs": [],
   "source": [
    "i += 1\n",
    "models.append(tf.keras.models.load_model(MODEL_PATHS[i]))"
   ]
  },
  {
   "cell_type": "code",
   "execution_count": 29,
   "metadata": {},
   "outputs": [],
   "source": [
    "i += 1\n",
    "models.append(tf.keras.models.load_model(MODEL_PATHS[i]))"
   ]
  },
  {
   "cell_type": "code",
   "execution_count": 30,
   "metadata": {},
   "outputs": [],
   "source": [
    "i += 1\n",
    "models.append(tf.keras.models.load_model(MODEL_PATHS[i]))"
   ]
  },
  {
   "cell_type": "code",
   "execution_count": 31,
   "metadata": {},
   "outputs": [],
   "source": [
    "i += 1\n",
    "models.append(tf.keras.models.load_model(MODEL_PATHS[i]))"
   ]
  },
  {
   "cell_type": "code",
   "execution_count": 32,
   "metadata": {},
   "outputs": [],
   "source": [
    "i += 1\n",
    "models.append(tf.keras.models.load_model(MODEL_PATHS[i]))"
   ]
  },
  {
   "cell_type": "code",
   "execution_count": 33,
   "metadata": {},
   "outputs": [],
   "source": [
    "i += 1\n",
    "models.append(tf.keras.models.load_model(MODEL_PATHS[i]))"
   ]
  },
  {
   "cell_type": "code",
   "execution_count": 34,
   "metadata": {},
   "outputs": [],
   "source": [
    "i += 1\n",
    "models.append(tf.keras.models.load_model(MODEL_PATHS[i]))"
   ]
  },
  {
   "cell_type": "code",
   "execution_count": 35,
   "metadata": {},
   "outputs": [],
   "source": [
    "i += 1\n",
    "models.append(tf.keras.models.load_model(MODEL_PATHS[i]))"
   ]
  },
  {
   "cell_type": "code",
   "execution_count": 36,
   "metadata": {},
   "outputs": [],
   "source": [
    "i += 1\n",
    "models.append(tf.keras.models.load_model(MODEL_PATHS[i]))"
   ]
  },
  {
   "cell_type": "code",
   "execution_count": 37,
   "metadata": {},
   "outputs": [],
   "source": [
    "i += 1\n",
    "models.append(tf.keras.models.load_model(MODEL_PATHS[i]))"
   ]
  },
  {
   "cell_type": "code",
   "execution_count": 38,
   "metadata": {},
   "outputs": [],
   "source": [
    "i += 1\n",
    "models.append(tf.keras.models.load_model(MODEL_PATHS[i]))"
   ]
  },
  {
   "cell_type": "code",
   "execution_count": 39,
   "metadata": {},
   "outputs": [],
   "source": [
    "i += 1\n",
    "models.append(tf.keras.models.load_model(MODEL_PATHS[i]))"
   ]
  },
  {
   "cell_type": "code",
   "execution_count": 40,
   "metadata": {},
   "outputs": [],
   "source": [
    "i += 1\n",
    "models.append(tf.keras.models.load_model(MODEL_PATHS[i]))"
   ]
  },
  {
   "cell_type": "code",
   "execution_count": 41,
   "metadata": {},
   "outputs": [],
   "source": [
    "i += 1\n",
    "models.append(tf.keras.models.load_model(MODEL_PATHS[i]))"
   ]
  },
  {
   "cell_type": "code",
   "execution_count": 42,
   "metadata": {},
   "outputs": [],
   "source": [
    "i += 1\n",
    "models.append(tf.keras.models.load_model(MODEL_PATHS[i]))"
   ]
  },
  {
   "cell_type": "code",
   "execution_count": 43,
   "metadata": {},
   "outputs": [],
   "source": [
    "i += 1\n",
    "models.append(tf.keras.models.load_model(MODEL_PATHS[i]))"
   ]
  },
  {
   "cell_type": "code",
   "execution_count": 44,
   "metadata": {},
   "outputs": [],
   "source": [
    "i += 1\n",
    "models.append(tf.keras.models.load_model(MODEL_PATHS[i]))"
   ]
  },
  {
   "cell_type": "code",
   "execution_count": 45,
   "metadata": {},
   "outputs": [],
   "source": [
    "i += 1\n",
    "models.append(tf.keras.models.load_model(MODEL_PATHS[i]))"
   ]
  },
  {
   "cell_type": "code",
   "execution_count": 46,
   "metadata": {},
   "outputs": [],
   "source": [
    "i += 1\n",
    "models.append(tf.keras.models.load_model(MODEL_PATHS[i]))"
   ]
  },
  {
   "cell_type": "code",
   "execution_count": 47,
   "metadata": {},
   "outputs": [],
   "source": [
    "i += 1\n",
    "models.append(tf.keras.models.load_model(MODEL_PATHS[i]))"
   ]
  },
  {
   "cell_type": "code",
   "execution_count": 48,
   "metadata": {},
   "outputs": [],
   "source": [
    "i += 1\n",
    "models.append(tf.keras.models.load_model(MODEL_PATHS[i]))"
   ]
  },
  {
   "cell_type": "code",
   "execution_count": 49,
   "metadata": {},
   "outputs": [],
   "source": [
    "i += 1\n",
    "models.append(tf.keras.models.load_model(MODEL_PATHS[i]))"
   ]
  },
  {
   "cell_type": "code",
   "execution_count": 50,
   "metadata": {},
   "outputs": [],
   "source": [
    "i += 1\n",
    "models.append(tf.keras.models.load_model(MODEL_PATHS[i]))"
   ]
  },
  {
   "cell_type": "code",
   "execution_count": 51,
   "metadata": {},
   "outputs": [],
   "source": [
    "i += 1\n",
    "models.append(tf.keras.models.load_model(MODEL_PATHS[i]))"
   ]
  },
  {
   "cell_type": "code",
   "execution_count": 52,
   "metadata": {},
   "outputs": [],
   "source": [
    "i += 1\n",
    "models.append(tf.keras.models.load_model(MODEL_PATHS[i]))"
   ]
  },
  {
   "cell_type": "code",
   "execution_count": 53,
   "metadata": {},
   "outputs": [],
   "source": [
    "i += 1\n",
    "models.append(tf.keras.models.load_model(MODEL_PATHS[i]))"
   ]
  },
  {
   "cell_type": "code",
   "execution_count": 54,
   "metadata": {},
   "outputs": [],
   "source": [
    "i += 1\n",
    "models.append(tf.keras.models.load_model(MODEL_PATHS[i]))"
   ]
  },
  {
   "cell_type": "code",
   "execution_count": 55,
   "metadata": {},
   "outputs": [],
   "source": [
    "i += 1\n",
    "models.append(tf.keras.models.load_model(MODEL_PATHS[i]))"
   ]
  },
  {
   "cell_type": "code",
   "execution_count": 56,
   "metadata": {},
   "outputs": [],
   "source": [
    "i += 1\n",
    "models.append(tf.keras.models.load_model(MODEL_PATHS[i]))"
   ]
  },
  {
   "cell_type": "code",
   "execution_count": 57,
   "metadata": {},
   "outputs": [],
   "source": [
    "i += 1\n",
    "models.append(tf.keras.models.load_model(MODEL_PATHS[i]))"
   ]
  },
  {
   "cell_type": "code",
   "execution_count": 58,
   "metadata": {},
   "outputs": [],
   "source": [
    "i += 1\n",
    "models.append(tf.keras.models.load_model(MODEL_PATHS[i]))"
   ]
  },
  {
   "cell_type": "code",
   "execution_count": null,
   "metadata": {},
   "outputs": [],
   "source": []
  },
  {
   "cell_type": "code",
   "execution_count": 61,
   "metadata": {},
   "outputs": [],
   "source": [
    "m = start + 1"
   ]
  },
  {
   "cell_type": "code",
   "execution_count": 62,
   "metadata": {},
   "outputs": [],
   "source": [
    "for i in range(len(models)):\n",
    "    converter = tf.lite.TFLiteConverter.from_keras_model(models[i])\n",
    "    converter.target_spec.supported_ops = [tf.lite.OpsSet.TFLITE_BUILTINS,\n",
    "                                       tf.lite.OpsSet.SELECT_TF_OPS]\n",
    "    tflite_model = converter.convert()\n",
    "    open(MODEL_SAVE_PATHS[m], \"wb\").write(tflite_model)\n",
    "    m += 1"
   ]
  },
  {
   "cell_type": "code",
   "execution_count": 63,
   "metadata": {},
   "outputs": [
    {
     "data": {
      "text/plain": [
       "(49, 48)"
      ]
     },
     "execution_count": 63,
     "metadata": {},
     "output_type": "execute_result"
    }
   ],
   "source": [
    "m, i"
   ]
  },
  {
   "cell_type": "code",
   "execution_count": 8,
   "metadata": {},
   "outputs": [
    {
     "data": {
      "text/plain": [
       "182448"
      ]
     },
     "execution_count": 8,
     "metadata": {},
     "output_type": "execute_result"
    }
   ],
   "source": []
  },
  {
   "cell_type": "code",
   "execution_count": null,
   "metadata": {},
   "outputs": [],
   "source": []
  }
 ],
 "metadata": {
  "kernelspec": {
   "display_name": "Python 3",
   "language": "python",
   "name": "python3"
  },
  "language_info": {
   "codemirror_mode": {
    "name": "ipython",
    "version": 3
   },
   "file_extension": ".py",
   "mimetype": "text/x-python",
   "name": "python",
   "nbconvert_exporter": "python",
   "pygments_lexer": "ipython3",
   "version": "3.6.9"
  }
 },
 "nbformat": 4,
 "nbformat_minor": 4
}
