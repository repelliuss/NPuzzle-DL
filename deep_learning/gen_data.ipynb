{
 "cells": [
  {
   "cell_type": "code",
   "execution_count": null,
   "metadata": {},
   "outputs": [],
   "source": [
    "from game.npuzzle import NPuzzle\n",
    "from game.move import Move\n",
    "import os\n",
    "import numpy as np\n",
    "import random"
   ]
  },
  {
   "cell_type": "code",
   "execution_count": null,
   "metadata": {},
   "outputs": [],
   "source": [
    "FILE_PATH = \"./data/\"\n",
    "FILE_NAME = \"9x9_220m_8000s\"\n",
    "ROW = 9\n",
    "COL = 9\n",
    "CMPLX = 220\n",
    "SNUM = 8000\n",
    "\n",
    "path = os.path.join(FILE_PATH, FILE_NAME)"
   ]
  },
  {
   "cell_type": "code",
   "execution_count": null,
   "metadata": {},
   "outputs": [],
   "source": [
    "def generate_boards(snum, row, column, cmplx):\n",
    "    train_data = []\n",
    "    train_label = []\n",
    "    \n",
    "    moves = [ Move.LEFT, Move.RIGHT, Move.UP, Move.DOWN ]\n",
    "    for i in range(snum):\n",
    "\n",
    "        puzzle = NPuzzle(row, column)\n",
    "        index = np.random.randint(low=0, high=len(moves))\n",
    "        domain = len(moves) - 1\n",
    "        for j in range(cmplx):\n",
    "\n",
    "            while not puzzle.move(moves[index]):\n",
    "                invalid_move = moves.pop(index)\n",
    "                moves.append(invalid_move)\n",
    "                domain -= 1\n",
    "                index = np.random.randint(low=0, high=domain)\n",
    "\n",
    "            train_data.append(puzzle.numpy())\n",
    "            train_label.append(Move.to_int(Move.opposite(puzzle.last_move)))\n",
    "\n",
    "            moves.remove(Move.opposite(puzzle.last_move))\n",
    "            moves.append(Move.opposite(puzzle.last_move))\n",
    "            domain = len(moves) - 1\n",
    "            index = np.random.randint(low=0, high=domain)\n",
    "        \n",
    "        if i % 10 == 0:\n",
    "            print(i)\n",
    "    \n",
    "    train_data.reverse()\n",
    "    train_label.reverse()\n",
    "                                 \n",
    "    return np.array(train_data), np.array(train_label)"
   ]
  },
  {
   "cell_type": "code",
   "execution_count": null,
   "metadata": {
    "scrolled": true
   },
   "outputs": [],
   "source": [
    "train_data, train_label = generate_boards(SNUM, ROW, COL, CMPLX)"
   ]
  },
  {
   "cell_type": "code",
   "execution_count": null,
   "metadata": {},
   "outputs": [],
   "source": [
    "train_data = train_data.reshape(-1, 1, ROW*COL)"
   ]
  },
  {
   "cell_type": "code",
   "execution_count": null,
   "metadata": {},
   "outputs": [],
   "source": [
    "train_data.shape, train_label.shape"
   ]
  },
  {
   "cell_type": "code",
   "execution_count": null,
   "metadata": {},
   "outputs": [],
   "source": [
    "np.savez_compressed(path,\n",
    "                        train_data=train_data,\n",
    "                        train_label=train_label)"
   ]
  }
 ],
 "metadata": {
  "kernelspec": {
   "display_name": "Python 3",
   "language": "python",
   "name": "python3"
  },
  "language_info": {
   "codemirror_mode": {
    "name": "ipython",
    "version": 3
   },
   "file_extension": ".py",
   "mimetype": "text/x-python",
   "name": "python",
   "nbconvert_exporter": "python",
   "pygments_lexer": "ipython3",
   "version": "3.6.9"
  }
 },
 "nbformat": 4,
 "nbformat_minor": 4
}
